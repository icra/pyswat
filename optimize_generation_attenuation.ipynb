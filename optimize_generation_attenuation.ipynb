{
 "cells": [
  {
   "cell_type": "code",
   "execution_count": 6,
   "metadata": {},
   "outputs": [
    {
     "name": "stdout",
     "output_type": "stream",
     "text": [
      "The autoreload extension is already loaded. To reload it, use:\n",
      "  %reload_ext autoreload\n"
     ]
    }
   ],
   "source": [
    "%load_ext autoreload\n",
    "%autoreload 2"
   ]
  },
  {
   "cell_type": "code",
   "execution_count": 7,
   "metadata": {},
   "outputs": [],
   "source": [
    "#from src.GenerationAttenuationOptimizer import GenerationAttenuationOptimizer\n",
    "from pathlib import Path\n",
    "import subprocess\n",
    "import os\n",
    "import tempfile\n",
    "import shutil\n",
    "import pandas as pd"
   ]
  },
  {
   "cell_type": "code",
   "execution_count": 12,
   "metadata": {},
   "outputs": [],
   "source": [
    "cwd = Path.cwd()"
   ]
  },
  {
   "cell_type": "code",
   "execution_count": 31,
   "metadata": {},
   "outputs": [],
   "source": [
    "conca = 'besos'\n",
    "contaminant = 'Venlafaxina'\n",
    "txtinout_path = Path().resolve() / 'data' / 'txtinouts' / f'Txtinout_{conca}'\n",
    "compound_generator_path = Path().resolve().parent / 'traca' / 'traca'/ 'inputs compound generator'\n",
    "removal_rate_path = compound_generator_path / 'inputs' / 'atenuacions_generacions.xlsx'\n",
    "channels_geom_path = cwd / 'data' / 'rivs1' / 'canals_tot_ci.shp'\n"
   ]
  },
  {
   "cell_type": "code",
   "execution_count": 37,
   "metadata": {},
   "outputs": [],
   "source": [
    "from src.pollution_utils import generate_pollution_observations, observacions_from_conca\n",
    "obs = generate_pollution_observations(contaminant)\n",
    "df = observacions_from_conca(channels_geom_path, obs, conca)"
   ]
  },
  {
   "cell_type": "code",
   "execution_count": 33,
   "metadata": {},
   "outputs": [],
   "source": [
    "\n",
    "\n",
    "first_observation = df.year.min()\n",
    "year_end = 2022\n",
    "year_start = max(first_observation-3, 2000) #3 years warm-up\n",
    "warmup = max(1, first_observation - year_start)\n"
   ]
  },
  {
   "cell_type": "code",
   "execution_count": 39,
   "metadata": {},
   "outputs": [
    {
     "data": {
      "text/html": [
       "<div>\n",
       "<style scoped>\n",
       "    .dataframe tbody tr th:only-of-type {\n",
       "        vertical-align: middle;\n",
       "    }\n",
       "\n",
       "    .dataframe tbody tr th {\n",
       "        vertical-align: top;\n",
       "    }\n",
       "\n",
       "    .dataframe thead th {\n",
       "        text-align: right;\n",
       "    }\n",
       "</style>\n",
       "<table border=\"1\" class=\"dataframe\">\n",
       "  <thead>\n",
       "    <tr style=\"text-align: right;\">\n",
       "      <th></th>\n",
       "      <th>fecha</th>\n",
       "      <th>estacion</th>\n",
       "      <th>cod_estaci</th>\n",
       "      <th>utm_x</th>\n",
       "      <th>utm_y</th>\n",
       "      <th>variable</th>\n",
       "      <th>unidad_med</th>\n",
       "      <th>valor_alfa</th>\n",
       "      <th>valor</th>\n",
       "      <th>gis_id</th>\n",
       "      <th>conca</th>\n",
       "      <th>year</th>\n",
       "      <th>month</th>\n",
       "      <th>day</th>\n",
       "    </tr>\n",
       "  </thead>\n",
       "  <tbody>\n",
       "    <tr>\n",
       "      <th>26</th>\n",
       "      <td>2022-03-23</td>\n",
       "      <td>P01'</td>\n",
       "      <td>P01'</td>\n",
       "      <td>434214.9880776412</td>\n",
       "      <td>4596185.98375158</td>\n",
       "      <td>Venlafaxina</td>\n",
       "      <td>ng/L</td>\n",
       "      <td>None</td>\n",
       "      <td>0.000233</td>\n",
       "      <td>87</td>\n",
       "      <td>besos</td>\n",
       "      <td>2022</td>\n",
       "      <td>3</td>\n",
       "      <td>23</td>\n",
       "    </tr>\n",
       "    <tr>\n",
       "      <th>27</th>\n",
       "      <td>2022-03-21</td>\n",
       "      <td>P05</td>\n",
       "      <td>P05</td>\n",
       "      <td>469332.0745425668</td>\n",
       "      <td>4620024.819463823</td>\n",
       "      <td>Venlafaxina</td>\n",
       "      <td>ng/L</td>\n",
       "      <td>None</td>\n",
       "      <td>0.000008</td>\n",
       "      <td>135</td>\n",
       "      <td>besos</td>\n",
       "      <td>2022</td>\n",
       "      <td>3</td>\n",
       "      <td>21</td>\n",
       "    </tr>\n",
       "    <tr>\n",
       "      <th>30</th>\n",
       "      <td>2022-03-21</td>\n",
       "      <td>P05'</td>\n",
       "      <td>P05'</td>\n",
       "      <td>470934.1159562504</td>\n",
       "      <td>4621356.884794555</td>\n",
       "      <td>Venlafaxina</td>\n",
       "      <td>ng/L</td>\n",
       "      <td>None</td>\n",
       "      <td>0.000011</td>\n",
       "      <td>135</td>\n",
       "      <td>besos</td>\n",
       "      <td>2022</td>\n",
       "      <td>3</td>\n",
       "      <td>21</td>\n",
       "    </tr>\n",
       "    <tr>\n",
       "      <th>31</th>\n",
       "      <td>2022-03-23</td>\n",
       "      <td>P01</td>\n",
       "      <td>P01</td>\n",
       "      <td>435034.02183479257</td>\n",
       "      <td>4598088.718273188</td>\n",
       "      <td>Venlafaxina</td>\n",
       "      <td>ng/L</td>\n",
       "      <td>None</td>\n",
       "      <td>0.000264</td>\n",
       "      <td>88</td>\n",
       "      <td>besos</td>\n",
       "      <td>2022</td>\n",
       "      <td>3</td>\n",
       "      <td>23</td>\n",
       "    </tr>\n",
       "    <tr>\n",
       "      <th>34</th>\n",
       "      <td>2022-03-23</td>\n",
       "      <td>P06</td>\n",
       "      <td>P06</td>\n",
       "      <td>433074.16222593</td>\n",
       "      <td>4597072.398023075</td>\n",
       "      <td>Venlafaxina</td>\n",
       "      <td>ng/L</td>\n",
       "      <td>None</td>\n",
       "      <td>0.000213</td>\n",
       "      <td>89</td>\n",
       "      <td>besos</td>\n",
       "      <td>2022</td>\n",
       "      <td>3</td>\n",
       "      <td>23</td>\n",
       "    </tr>\n",
       "    <tr>\n",
       "      <th>35</th>\n",
       "      <td>2022-03-23</td>\n",
       "      <td>P06'</td>\n",
       "      <td>P06'</td>\n",
       "      <td>434105.8951421383</td>\n",
       "      <td>4596147.119800509</td>\n",
       "      <td>Venlafaxina</td>\n",
       "      <td>ng/L</td>\n",
       "      <td>None</td>\n",
       "      <td>0.000175</td>\n",
       "      <td>89</td>\n",
       "      <td>besos</td>\n",
       "      <td>2022</td>\n",
       "      <td>3</td>\n",
       "      <td>23</td>\n",
       "    </tr>\n",
       "    <tr>\n",
       "      <th>38</th>\n",
       "      <td>2022-03-21</td>\n",
       "      <td>P10</td>\n",
       "      <td>P10</td>\n",
       "      <td>472561.8776177109</td>\n",
       "      <td>4624802.368005624</td>\n",
       "      <td>Venlafaxina</td>\n",
       "      <td>ng/L</td>\n",
       "      <td>None</td>\n",
       "      <td>0.000007</td>\n",
       "      <td>108</td>\n",
       "      <td>besos</td>\n",
       "      <td>2022</td>\n",
       "      <td>3</td>\n",
       "      <td>21</td>\n",
       "    </tr>\n",
       "    <tr>\n",
       "      <th>39</th>\n",
       "      <td>2022-03-21</td>\n",
       "      <td>P10'</td>\n",
       "      <td>P10'</td>\n",
       "      <td>472856.86008605885</td>\n",
       "      <td>4621895.690410834</td>\n",
       "      <td>Venlafaxina</td>\n",
       "      <td>ng/L</td>\n",
       "      <td>None</td>\n",
       "      <td>0.000012</td>\n",
       "      <td>17</td>\n",
       "      <td>besos</td>\n",
       "      <td>2022</td>\n",
       "      <td>3</td>\n",
       "      <td>21</td>\n",
       "    </tr>\n",
       "  </tbody>\n",
       "</table>\n",
       "</div>"
      ],
      "text/plain": [
       "        fecha estacion cod_estaci               utm_x              utm_y  \\\n",
       "26 2022-03-23     P01'       P01'   434214.9880776412   4596185.98375158   \n",
       "27 2022-03-21      P05        P05   469332.0745425668  4620024.819463823   \n",
       "30 2022-03-21     P05'       P05'   470934.1159562504  4621356.884794555   \n",
       "31 2022-03-23      P01        P01  435034.02183479257  4598088.718273188   \n",
       "34 2022-03-23      P06        P06     433074.16222593  4597072.398023075   \n",
       "35 2022-03-23     P06'       P06'   434105.8951421383  4596147.119800509   \n",
       "38 2022-03-21      P10        P10   472561.8776177109  4624802.368005624   \n",
       "39 2022-03-21     P10'       P10'  472856.86008605885  4621895.690410834   \n",
       "\n",
       "       variable unidad_med valor_alfa     valor gis_id  conca  year  month  \\\n",
       "26  Venlafaxina       ng/L       None  0.000233     87  besos  2022      3   \n",
       "27  Venlafaxina       ng/L       None  0.000008    135  besos  2022      3   \n",
       "30  Venlafaxina       ng/L       None  0.000011    135  besos  2022      3   \n",
       "31  Venlafaxina       ng/L       None  0.000264     88  besos  2022      3   \n",
       "34  Venlafaxina       ng/L       None  0.000213     89  besos  2022      3   \n",
       "35  Venlafaxina       ng/L       None  0.000175     89  besos  2022      3   \n",
       "38  Venlafaxina       ng/L       None  0.000007    108  besos  2022      3   \n",
       "39  Venlafaxina       ng/L       None  0.000012     17  besos  2022      3   \n",
       "\n",
       "    day  \n",
       "26   23  \n",
       "27   21  \n",
       "30   21  \n",
       "31   23  \n",
       "34   23  \n",
       "35   23  \n",
       "38   21  \n",
       "39   21  "
      ]
     },
     "execution_count": 39,
     "metadata": {},
     "output_type": "execute_result"
    }
   ],
   "source": [
    "df"
   ]
  },
  {
   "cell_type": "code",
   "execution_count": 27,
   "metadata": {},
   "outputs": [
    {
     "data": {
      "text/plain": [
       "2019"
      ]
     },
     "execution_count": 27,
     "metadata": {},
     "output_type": "execute_result"
    }
   ],
   "source": [
    "first_observation"
   ]
  },
  {
   "cell_type": "code",
   "execution_count": 5,
   "metadata": {},
   "outputs": [],
   "source": [
    "\n",
    "a = GenerationAttenuationOptimizer(\n",
    "    conca, \n",
    "    contaminant, \n",
    "    txtinout_folder = txtinout_path,\n",
    "    removal_rate_path = removal_rate_path,\n",
    "    compound_generator_path = compound_generator_path,\n",
    "    channels_geom_path = cwd/'data'/'rivs1'/'canals_tot_ci.shp',\n",
    "    tmp_path = cwd/'data'/'txtinouts'/'tmp',\n",
    "    compound_features_path = cwd/'data'/'compound_features.xlsx',\n",
    "    lod_path = os.path.join('data', 'lod.xlsx'),\n",
    "    n_gen = 1,\n",
    "    n_workers = 1,\n",
    ")"
   ]
  },
  {
   "cell_type": "code",
   "execution_count": 6,
   "metadata": {},
   "outputs": [
    {
     "name": "stdout",
     "output_type": "stream",
     "text": [
      "1\n",
      "1\n",
      "aaa\n",
      "aqui entra\n"
     ]
    }
   ],
   "source": [
    "res = a.minimize()"
   ]
  },
  {
   "cell_type": "code",
   "execution_count": null,
   "metadata": {},
   "outputs": [
    {
     "data": {
      "text/plain": [
       "{'best_params': {'solub': 198.4392600284095,\n",
       "  'aq_hlife': 52.034491104988234,\n",
       "  'aq_volat': 1.2173915570602744e-05,\n",
       "  'mol_wt': 300.7879648748127,\n",
       "  'aq_resus': 0.0024036667027493644,\n",
       "  'aq_settle': 0.6127819433765586,\n",
       "  'ben_act_dep': 0.37676341902399035,\n",
       "  'ben_bury': 0.0026088453764971926,\n",
       "  'ben_hlife': 49.09684326547141,\n",
       "  'kow': 636.8892525398122},\n",
       " 'best_error': 0.00022145178278898392}"
      ]
     },
     "execution_count": 7,
     "metadata": {},
     "output_type": "execute_result"
    }
   ],
   "source": [
    "res"
   ]
  },
  {
   "cell_type": "code",
   "execution_count": 12,
   "metadata": {},
   "outputs": [
    {
     "data": {
      "text/html": [
       "<div>\n",
       "<style scoped>\n",
       "    .dataframe tbody tr th:only-of-type {\n",
       "        vertical-align: middle;\n",
       "    }\n",
       "\n",
       "    .dataframe tbody tr th {\n",
       "        vertical-align: top;\n",
       "    }\n",
       "\n",
       "    .dataframe thead th {\n",
       "        text-align: right;\n",
       "    }\n",
       "</style>\n",
       "<table border=\"1\" class=\"dataframe\">\n",
       "  <thead>\n",
       "    <tr style=\"text-align: right;\">\n",
       "      <th></th>\n",
       "      <th>A</th>\n",
       "      <th>B</th>\n",
       "      <th>C</th>\n",
       "      <th>D</th>\n",
       "    </tr>\n",
       "  </thead>\n",
       "  <tbody>\n",
       "    <tr>\n",
       "      <th>0</th>\n",
       "      <td>30</td>\n",
       "      <td>14</td>\n",
       "      <td>96</td>\n",
       "      <td>54</td>\n",
       "    </tr>\n",
       "    <tr>\n",
       "      <th>1</th>\n",
       "      <td>29</td>\n",
       "      <td>28</td>\n",
       "      <td>58</td>\n",
       "      <td>17</td>\n",
       "    </tr>\n",
       "    <tr>\n",
       "      <th>2</th>\n",
       "      <td>76</td>\n",
       "      <td>8</td>\n",
       "      <td>96</td>\n",
       "      <td>58</td>\n",
       "    </tr>\n",
       "    <tr>\n",
       "      <th>3</th>\n",
       "      <td>79</td>\n",
       "      <td>12</td>\n",
       "      <td>58</td>\n",
       "      <td>89</td>\n",
       "    </tr>\n",
       "    <tr>\n",
       "      <th>4</th>\n",
       "      <td>91</td>\n",
       "      <td>73</td>\n",
       "      <td>32</td>\n",
       "      <td>19</td>\n",
       "    </tr>\n",
       "    <tr>\n",
       "      <th>...</th>\n",
       "      <td>...</td>\n",
       "      <td>...</td>\n",
       "      <td>...</td>\n",
       "      <td>...</td>\n",
       "    </tr>\n",
       "    <tr>\n",
       "      <th>95</th>\n",
       "      <td>53</td>\n",
       "      <td>26</td>\n",
       "      <td>67</td>\n",
       "      <td>21</td>\n",
       "    </tr>\n",
       "    <tr>\n",
       "      <th>96</th>\n",
       "      <td>64</td>\n",
       "      <td>10</td>\n",
       "      <td>7</td>\n",
       "      <td>67</td>\n",
       "    </tr>\n",
       "    <tr>\n",
       "      <th>97</th>\n",
       "      <td>99</td>\n",
       "      <td>9</td>\n",
       "      <td>38</td>\n",
       "      <td>4</td>\n",
       "    </tr>\n",
       "    <tr>\n",
       "      <th>98</th>\n",
       "      <td>13</td>\n",
       "      <td>68</td>\n",
       "      <td>32</td>\n",
       "      <td>29</td>\n",
       "    </tr>\n",
       "    <tr>\n",
       "      <th>99</th>\n",
       "      <td>77</td>\n",
       "      <td>42</td>\n",
       "      <td>77</td>\n",
       "      <td>26</td>\n",
       "    </tr>\n",
       "  </tbody>\n",
       "</table>\n",
       "<p>100 rows × 4 columns</p>\n",
       "</div>"
      ],
      "text/plain": [
       "     A   B   C   D\n",
       "0   30  14  96  54\n",
       "1   29  28  58  17\n",
       "2   76   8  96  58\n",
       "3   79  12  58  89\n",
       "4   91  73  32  19\n",
       "..  ..  ..  ..  ..\n",
       "95  53  26  67  21\n",
       "96  64  10   7  67\n",
       "97  99   9  38   4\n",
       "98  13  68  32  29\n",
       "99  77  42  77  26\n",
       "\n",
       "[100 rows x 4 columns]"
      ]
     },
     "execution_count": 12,
     "metadata": {},
     "output_type": "execute_result"
    }
   ],
   "source": [
    "#random df\n",
    "import numpy as np\n",
    "import pandas as pd\n",
    "df = pd.DataFrame(np.random.randint(0,100,size=(100, 4)), columns=list('ABCD'))\n",
    "df"
   ]
  },
  {
   "cell_type": "code",
   "execution_count": 13,
   "metadata": {},
   "outputs": [
    {
     "name": "stdout",
     "output_type": "stream",
     "text": [
      "f\n",
      "f\n",
      "f\n",
      "f\n"
     ]
    }
   ],
   "source": [
    "for column in df.columns:\n",
    "    if df[column].dtype.kind == 'i':\n",
    "        df[column] = df[column].astype(float)\n",
    "    print(df[column].dtype.kind)\n",
    "                \n",
    "\n",
    "            "
   ]
  },
  {
   "cell_type": "code",
   "execution_count": 9,
   "metadata": {},
   "outputs": [],
   "source": [
    "recall_points_path = compound_generator_path / 'inputs' / 'recall_points.xlsx'\n",
    "edar_data_path = compound_generator_path / 'inputs' / 'edar_data.xlsx'"
   ]
  },
  {
   "cell_type": "code",
   "execution_count": 16,
   "metadata": {},
   "outputs": [],
   "source": [
    "recall_points_df = pd.read_excel(recall_points_path)\n",
    "edars_in_conca = recall_points_df[(recall_points_df['edar_code'].notnull()) & (recall_points_df['conca'] == conca)].edar_code.unique()"
   ]
  },
  {
   "cell_type": "code",
   "execution_count": 17,
   "metadata": {},
   "outputs": [
    {
     "data": {
      "text/plain": [
       "array(['ES9170460001010E', 'ES9171140003010E', 'ES9171650003010E',\n",
       "       'ES9171850006010E', 'ES9170190001010E', 'ES9171850001010E'],\n",
       "      dtype=object)"
      ]
     },
     "execution_count": 17,
     "metadata": {},
     "output_type": "execute_result"
    }
   ],
   "source": [
    "edars_in_conca"
   ]
  },
  {
   "cell_type": "code",
   "execution_count": 20,
   "metadata": {},
   "outputs": [
    {
     "data": {
      "text/html": [
       "<div>\n",
       "<style scoped>\n",
       "    .dataframe tbody tr th:only-of-type {\n",
       "        vertical-align: middle;\n",
       "    }\n",
       "\n",
       "    .dataframe tbody tr th {\n",
       "        vertical-align: top;\n",
       "    }\n",
       "\n",
       "    .dataframe thead th {\n",
       "        text-align: right;\n",
       "    }\n",
       "</style>\n",
       "<table border=\"1\" class=\"dataframe\">\n",
       "  <thead>\n",
       "    <tr style=\"text-align: right;\">\n",
       "      <th></th>\n",
       "      <th>codi_eu</th>\n",
       "      <th>codi_aca</th>\n",
       "      <th>nom_edar</th>\n",
       "      <th>poblacio_sanejada</th>\n",
       "      <th>primari</th>\n",
       "      <th>secundari</th>\n",
       "      <th>terciari</th>\n",
       "    </tr>\n",
       "  </thead>\n",
       "  <tbody>\n",
       "    <tr>\n",
       "      <th>11</th>\n",
       "      <td>ES9171850001010E</td>\n",
       "      <td>DSJFB</td>\n",
       "      <td>BEGUDÀ</td>\n",
       "      <td>234</td>\n",
       "      <td>P</td>\n",
       "      <td>SN</td>\n",
       "      <td>NaN</td>\n",
       "    </tr>\n",
       "    <tr>\n",
       "      <th>15</th>\n",
       "      <td>ES9170190001010E</td>\n",
       "      <td>DBES</td>\n",
       "      <td>BESALÚ</td>\n",
       "      <td>2360</td>\n",
       "      <td>P</td>\n",
       "      <td>SN</td>\n",
       "      <td>NaN</td>\n",
       "    </tr>\n",
       "    <tr>\n",
       "      <th>32</th>\n",
       "      <td>ES9170460001010E</td>\n",
       "      <td>DCDR</td>\n",
       "      <td>CASTELLFOLLIT DE LA ROCA</td>\n",
       "      <td>1048</td>\n",
       "      <td>P</td>\n",
       "      <td>SC</td>\n",
       "      <td>NaN</td>\n",
       "    </tr>\n",
       "    <tr>\n",
       "      <th>68</th>\n",
       "      <td>ES9171140003010E</td>\n",
       "      <td>DOLO</td>\n",
       "      <td>OLOT</td>\n",
       "      <td>36979</td>\n",
       "      <td>P</td>\n",
       "      <td>SP</td>\n",
       "      <td>NaN</td>\n",
       "    </tr>\n",
       "    <tr>\n",
       "      <th>109</th>\n",
       "      <td>ES9171650003010E</td>\n",
       "      <td>DSJL</td>\n",
       "      <td>SANT JAUME DE LLIERCA</td>\n",
       "      <td>2104</td>\n",
       "      <td>P</td>\n",
       "      <td>SN</td>\n",
       "      <td>NaN</td>\n",
       "    </tr>\n",
       "    <tr>\n",
       "      <th>112</th>\n",
       "      <td>ES9171850006010E</td>\n",
       "      <td>DSJF</td>\n",
       "      <td>SANT JOAN LES FONTS</td>\n",
       "      <td>4151</td>\n",
       "      <td>P</td>\n",
       "      <td>SN</td>\n",
       "      <td>NaN</td>\n",
       "    </tr>\n",
       "  </tbody>\n",
       "</table>\n",
       "</div>"
      ],
      "text/plain": [
       "              codi_eu codi_aca                  nom_edar  poblacio_sanejada  \\\n",
       "11   ES9171850001010E    DSJFB                    BEGUDÀ                234   \n",
       "15   ES9170190001010E     DBES                    BESALÚ               2360   \n",
       "32   ES9170460001010E     DCDR  CASTELLFOLLIT DE LA ROCA               1048   \n",
       "68   ES9171140003010E     DOLO                      OLOT              36979   \n",
       "109  ES9171650003010E     DSJL     SANT JAUME DE LLIERCA               2104   \n",
       "112  ES9171850006010E     DSJF       SANT JOAN LES FONTS               4151   \n",
       "\n",
       "    primari secundari terciari  \n",
       "11        P        SN      NaN  \n",
       "15        P        SN      NaN  \n",
       "32        P        SC      NaN  \n",
       "68        P        SP      NaN  \n",
       "109       P        SN      NaN  \n",
       "112       P        SN      NaN  "
      ]
     },
     "execution_count": 20,
     "metadata": {},
     "output_type": "execute_result"
    }
   ],
   "source": [
    "edar_data_df = pd.read_excel(edar_data_path)\n",
    "edar_data_df = edar_data_df[edar_data_df['codi_eu'].isin(edars_in_conca)]"
   ]
  },
  {
   "cell_type": "code",
   "execution_count": 45,
   "metadata": {},
   "outputs": [],
   "source": [
    "primari = edar_data_df.primari.dropna().unique()\n",
    "secundari = edar_data_df.secundari.dropna().unique()\n",
    "terciari_splitted = [s.split(',') for s in edar_data_df.terciari.dropna()]\n",
    "terciari = set([tecnologia for tren_tractament in terciari_splitted for tecnologia in tren_tractament])\n"
   ]
  },
  {
   "cell_type": "code",
   "execution_count": 47,
   "metadata": {},
   "outputs": [
    {
     "data": {
      "text/plain": [
       "array(['P'], dtype=object)"
      ]
     },
     "execution_count": 47,
     "metadata": {},
     "output_type": "execute_result"
    }
   ],
   "source": [
    "primari"
   ]
  },
  {
   "cell_type": "code",
   "execution_count": 48,
   "metadata": {},
   "outputs": [
    {
     "data": {
      "text/plain": [
       "array(['SP', 'SN', 'SC'], dtype=object)"
      ]
     },
     "execution_count": 48,
     "metadata": {},
     "output_type": "execute_result"
    }
   ],
   "source": [
    "secundari"
   ]
  },
  {
   "cell_type": "code",
   "execution_count": 49,
   "metadata": {},
   "outputs": [
    {
     "data": {
      "text/plain": [
       "{'CL', 'OTHER', 'SF', 'UF', 'UV'}"
      ]
     },
     "execution_count": 49,
     "metadata": {},
     "output_type": "execute_result"
    }
   ],
   "source": [
    "terciari"
   ]
  },
  {
   "cell_type": "code",
   "execution_count": 59,
   "metadata": {},
   "outputs": [
    {
     "data": {
      "text/plain": [
       "{'CL', 'OTHER', 'P', 'SC', 'SF', 'SN', 'SP', 'UF', 'UV'}"
      ]
     },
     "execution_count": 59,
     "metadata": {},
     "output_type": "execute_result"
    }
   ],
   "source": [
    "set([*primari, *secundari, *terciari])"
   ]
  },
  {
   "cell_type": "code",
   "execution_count": 63,
   "metadata": {},
   "outputs": [
    {
     "data": {
      "text/html": [
       "<div>\n",
       "<style scoped>\n",
       "    .dataframe tbody tr th:only-of-type {\n",
       "        vertical-align: middle;\n",
       "    }\n",
       "\n",
       "    .dataframe tbody tr th {\n",
       "        vertical-align: top;\n",
       "    }\n",
       "\n",
       "    .dataframe thead th {\n",
       "        text-align: right;\n",
       "    }\n",
       "</style>\n",
       "<table border=\"1\" class=\"dataframe\">\n",
       "  <thead>\n",
       "    <tr style=\"text-align: right;\">\n",
       "      <th></th>\n",
       "      <th>codi_eu</th>\n",
       "      <th>codi_aca</th>\n",
       "      <th>nom_edar</th>\n",
       "      <th>poblacio_sanejada</th>\n",
       "      <th>primari</th>\n",
       "      <th>secundari</th>\n",
       "      <th>terciari</th>\n",
       "    </tr>\n",
       "  </thead>\n",
       "  <tbody>\n",
       "    <tr>\n",
       "      <th>11</th>\n",
       "      <td>ES9171850001010E</td>\n",
       "      <td>DSJFB</td>\n",
       "      <td>BEGUDÀ</td>\n",
       "      <td>234</td>\n",
       "      <td>P</td>\n",
       "      <td>SN</td>\n",
       "      <td>NaN</td>\n",
       "    </tr>\n",
       "  </tbody>\n",
       "</table>\n",
       "</div>"
      ],
      "text/plain": [
       "             codi_eu codi_aca nom_edar  poblacio_sanejada primari secundari  \\\n",
       "11  ES9171850001010E    DSJFB   BEGUDÀ                234       P        SN   \n",
       "\n",
       "   terciari  \n",
       "11      NaN  "
      ]
     },
     "execution_count": 63,
     "metadata": {},
     "output_type": "execute_result"
    }
   ],
   "source": [
    "a = edar_data_df[edar_data_df['codi_eu'] == 'ES9171850001010E']\n",
    "a"
   ]
  },
  {
   "cell_type": "code",
   "execution_count": 69,
   "metadata": {},
   "outputs": [
    {
     "data": {
      "text/plain": [
       "primari        P\n",
       "secundari     SN\n",
       "terciari     NaN\n",
       "Name: 11, dtype: object"
      ]
     },
     "execution_count": 69,
     "metadata": {},
     "output_type": "execute_result"
    }
   ],
   "source": [
    "a.loc[11][['primari', 'secundari', 'terciari']]\n"
   ]
  }
 ],
 "metadata": {
  "kernelspec": {
   "display_name": "hackathon",
   "language": "python",
   "name": "python3"
  },
  "language_info": {
   "codemirror_mode": {
    "name": "ipython",
    "version": 3
   },
   "file_extension": ".py",
   "mimetype": "text/x-python",
   "name": "python",
   "nbconvert_exporter": "python",
   "pygments_lexer": "ipython3",
   "version": "3.12.0"
  },
  "orig_nbformat": 4,
  "vscode": {
   "interpreter": {
    "hash": "69060bfe147e60603269367298bfd775c6b167aba108b521beaeacd30c3feb0b"
   }
  }
 },
 "nbformat": 4,
 "nbformat_minor": 2
}
