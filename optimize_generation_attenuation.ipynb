{
 "cells": [
  {
   "cell_type": "code",
   "execution_count": 1,
   "metadata": {},
   "outputs": [],
   "source": [
    "%load_ext autoreload\n",
    "%autoreload 2"
   ]
  },
  {
   "cell_type": "code",
   "execution_count": 2,
   "metadata": {},
   "outputs": [
    {
     "ename": "IndentationError",
     "evalue": "expected an indented block (GenerationAttenuationOptimizer.py, line 132)",
     "output_type": "error",
     "traceback": [
      "Traceback \u001b[1;36m(most recent call last)\u001b[0m:\n",
      "\u001b[0m  File \u001b[0;32mc:\\Users\\jsalo\\anaconda3\\envs\\pySWAT\\lib\\site-packages\\IPython\\core\\interactiveshell.py:3508\u001b[0m in \u001b[0;35mrun_code\u001b[0m\n    exec(code_obj, self.user_global_ns, self.user_ns)\u001b[0m\n",
      "\u001b[1;36m  Cell \u001b[1;32mIn[2], line 1\u001b[1;36m\n\u001b[1;33m    from src.GenerationAttenuationOptimizer import GenerationAttenuationOptimizer\u001b[1;36m\n",
      "\u001b[1;36m  File \u001b[1;32mc:\\Users\\jsalo\\Desktop\\ICRA\\traca_contaminacio\\traca_contaminacio\\src\\GenerationAttenuationOptimizer.py:132\u001b[1;36m\u001b[0m\n\u001b[1;33m    removal_rate_df = removal_rate_df.loc[removal_rate_df['contaminant'] == contaminant].copy()\u001b[0m\n\u001b[1;37m    ^\u001b[0m\n\u001b[1;31mIndentationError\u001b[0m\u001b[1;31m:\u001b[0m expected an indented block\n"
     ]
    }
   ],
   "source": [
    "from src.GenerationAttenuationOptimizer import GenerationAttenuationOptimizer\n",
    "from pathlib import Path\n",
    "import subprocess\n",
    "import os\n",
    "import tempfile\n",
    "import shutil\n",
    "import pandas as pd"
   ]
  },
  {
   "cell_type": "code",
   "execution_count": 3,
   "metadata": {},
   "outputs": [],
   "source": [
    "cwd = Path.cwd()"
   ]
  },
  {
   "cell_type": "code",
   "execution_count": 4,
   "metadata": {},
   "outputs": [],
   "source": [
    "conca = 'fluvia'\n",
    "contaminant = 'Triclorometà'\n",
    "txtinout_path = Path().resolve() / 'data' / 'txtinouts' / f'Txtinout_{conca}'\n",
    "compound_generator_path = Path().resolve().parent / 'traca' / 'traca'/ 'inputs compound generator'\n",
    "removal_rate_path = compound_generator_path / 'inputs' / 'atenuacions_generacions.xlsx'\n",
    "channels_geom_path = cwd / 'data' / 'rivs1' / 'canals_tot_ci.shp'\n"
   ]
  },
  {
   "cell_type": "code",
   "execution_count": 5,
   "metadata": {},
   "outputs": [],
   "source": [
    "\n",
    "a = GenerationAttenuationOptimizer(\n",
    "    conca, \n",
    "    contaminant, \n",
    "    txtinout_folder = txtinout_path,\n",
    "    removal_rate_path = removal_rate_path,\n",
    "    compound_generator_path = compound_generator_path,\n",
    "    channels_geom_path = cwd/'data'/'rivs1'/'canals_tot_ci.shp',\n",
    "    tmp_path = cwd/'data'/'txtinouts'/'tmp',\n",
    "    compound_features_path = cwd/'data'/'compound_features.xlsx',\n",
    "    lod_path = os.path.join('data', 'lod.xlsx'),\n",
    "    n_gen = 1,\n",
    "    n_workers = 1,\n",
    ")"
   ]
  },
  {
   "cell_type": "code",
   "execution_count": 6,
   "metadata": {},
   "outputs": [
    {
     "name": "stdout",
     "output_type": "stream",
     "text": [
      "1\n",
      "1\n",
      "aaa\n",
      "aqui entra\n"
     ]
    }
   ],
   "source": [
    "res = a.minimize()"
   ]
  },
  {
   "cell_type": "code",
   "execution_count": null,
   "metadata": {},
   "outputs": [
    {
     "data": {
      "text/plain": [
       "{'best_params': {'solub': 198.4392600284095,\n",
       "  'aq_hlife': 52.034491104988234,\n",
       "  'aq_volat': 1.2173915570602744e-05,\n",
       "  'mol_wt': 300.7879648748127,\n",
       "  'aq_resus': 0.0024036667027493644,\n",
       "  'aq_settle': 0.6127819433765586,\n",
       "  'ben_act_dep': 0.37676341902399035,\n",
       "  'ben_bury': 0.0026088453764971926,\n",
       "  'ben_hlife': 49.09684326547141,\n",
       "  'kow': 636.8892525398122},\n",
       " 'best_error': 0.00022145178278898392}"
      ]
     },
     "execution_count": 7,
     "metadata": {},
     "output_type": "execute_result"
    }
   ],
   "source": [
    "res"
   ]
  },
  {
   "cell_type": "code",
   "execution_count": 12,
   "metadata": {},
   "outputs": [
    {
     "data": {
      "text/html": [
       "<div>\n",
       "<style scoped>\n",
       "    .dataframe tbody tr th:only-of-type {\n",
       "        vertical-align: middle;\n",
       "    }\n",
       "\n",
       "    .dataframe tbody tr th {\n",
       "        vertical-align: top;\n",
       "    }\n",
       "\n",
       "    .dataframe thead th {\n",
       "        text-align: right;\n",
       "    }\n",
       "</style>\n",
       "<table border=\"1\" class=\"dataframe\">\n",
       "  <thead>\n",
       "    <tr style=\"text-align: right;\">\n",
       "      <th></th>\n",
       "      <th>A</th>\n",
       "      <th>B</th>\n",
       "      <th>C</th>\n",
       "      <th>D</th>\n",
       "    </tr>\n",
       "  </thead>\n",
       "  <tbody>\n",
       "    <tr>\n",
       "      <th>0</th>\n",
       "      <td>30</td>\n",
       "      <td>14</td>\n",
       "      <td>96</td>\n",
       "      <td>54</td>\n",
       "    </tr>\n",
       "    <tr>\n",
       "      <th>1</th>\n",
       "      <td>29</td>\n",
       "      <td>28</td>\n",
       "      <td>58</td>\n",
       "      <td>17</td>\n",
       "    </tr>\n",
       "    <tr>\n",
       "      <th>2</th>\n",
       "      <td>76</td>\n",
       "      <td>8</td>\n",
       "      <td>96</td>\n",
       "      <td>58</td>\n",
       "    </tr>\n",
       "    <tr>\n",
       "      <th>3</th>\n",
       "      <td>79</td>\n",
       "      <td>12</td>\n",
       "      <td>58</td>\n",
       "      <td>89</td>\n",
       "    </tr>\n",
       "    <tr>\n",
       "      <th>4</th>\n",
       "      <td>91</td>\n",
       "      <td>73</td>\n",
       "      <td>32</td>\n",
       "      <td>19</td>\n",
       "    </tr>\n",
       "    <tr>\n",
       "      <th>...</th>\n",
       "      <td>...</td>\n",
       "      <td>...</td>\n",
       "      <td>...</td>\n",
       "      <td>...</td>\n",
       "    </tr>\n",
       "    <tr>\n",
       "      <th>95</th>\n",
       "      <td>53</td>\n",
       "      <td>26</td>\n",
       "      <td>67</td>\n",
       "      <td>21</td>\n",
       "    </tr>\n",
       "    <tr>\n",
       "      <th>96</th>\n",
       "      <td>64</td>\n",
       "      <td>10</td>\n",
       "      <td>7</td>\n",
       "      <td>67</td>\n",
       "    </tr>\n",
       "    <tr>\n",
       "      <th>97</th>\n",
       "      <td>99</td>\n",
       "      <td>9</td>\n",
       "      <td>38</td>\n",
       "      <td>4</td>\n",
       "    </tr>\n",
       "    <tr>\n",
       "      <th>98</th>\n",
       "      <td>13</td>\n",
       "      <td>68</td>\n",
       "      <td>32</td>\n",
       "      <td>29</td>\n",
       "    </tr>\n",
       "    <tr>\n",
       "      <th>99</th>\n",
       "      <td>77</td>\n",
       "      <td>42</td>\n",
       "      <td>77</td>\n",
       "      <td>26</td>\n",
       "    </tr>\n",
       "  </tbody>\n",
       "</table>\n",
       "<p>100 rows × 4 columns</p>\n",
       "</div>"
      ],
      "text/plain": [
       "     A   B   C   D\n",
       "0   30  14  96  54\n",
       "1   29  28  58  17\n",
       "2   76   8  96  58\n",
       "3   79  12  58  89\n",
       "4   91  73  32  19\n",
       "..  ..  ..  ..  ..\n",
       "95  53  26  67  21\n",
       "96  64  10   7  67\n",
       "97  99   9  38   4\n",
       "98  13  68  32  29\n",
       "99  77  42  77  26\n",
       "\n",
       "[100 rows x 4 columns]"
      ]
     },
     "execution_count": 12,
     "metadata": {},
     "output_type": "execute_result"
    }
   ],
   "source": [
    "#random df\n",
    "import numpy as np\n",
    "import pandas as pd\n",
    "df = pd.DataFrame(np.random.randint(0,100,size=(100, 4)), columns=list('ABCD'))\n",
    "df"
   ]
  },
  {
   "cell_type": "code",
   "execution_count": 13,
   "metadata": {},
   "outputs": [
    {
     "name": "stdout",
     "output_type": "stream",
     "text": [
      "f\n",
      "f\n",
      "f\n",
      "f\n"
     ]
    }
   ],
   "source": [
    "for column in df.columns:\n",
    "    if df[column].dtype.kind == 'i':\n",
    "        df[column] = df[column].astype(float)\n",
    "    print(df[column].dtype.kind)\n",
    "                \n",
    "\n",
    "            "
   ]
  },
  {
   "cell_type": "code",
   "execution_count": null,
   "metadata": {},
   "outputs": [],
   "source": []
  }
 ],
 "metadata": {
  "kernelspec": {
   "display_name": "hackathon",
   "language": "python",
   "name": "python3"
  },
  "language_info": {
   "codemirror_mode": {
    "name": "ipython",
    "version": 3
   },
   "file_extension": ".py",
   "mimetype": "text/x-python",
   "name": "python",
   "nbconvert_exporter": "python",
   "pygments_lexer": "ipython3",
   "version": "3.8.18"
  },
  "orig_nbformat": 4,
  "vscode": {
   "interpreter": {
    "hash": "69060bfe147e60603269367298bfd775c6b167aba108b521beaeacd30c3feb0b"
   }
  }
 },
 "nbformat": 4,
 "nbformat_minor": 2
}
