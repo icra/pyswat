{
 "cells": [
  {
   "cell_type": "code",
   "execution_count": 1,
   "metadata": {},
   "outputs": [],
   "source": [
    "%load_ext autoreload\n",
    "%autoreload 2"
   ]
  },
  {
   "cell_type": "code",
   "execution_count": 2,
   "metadata": {},
   "outputs": [],
   "source": [
    "from src.TxtinoutReader import TxtinoutReader\n",
    "from pathlib import Path\n",
    "import os\n",
    "from dask_jobqueue import SLURMCluster\n",
    "from dask.distributed import Client"
   ]
  },
  {
   "cell_type": "code",
   "execution_count": 3,
   "metadata": {},
   "outputs": [],
   "source": [
    "contaminant = 'Diuron'\n",
    "conca = 'fluvia'"
   ]
  },
  {
   "cell_type": "code",
   "execution_count": 4,
   "metadata": {},
   "outputs": [],
   "source": [
    "cwd = Path(os.path.abspath(''))"
   ]
  },
  {
   "cell_type": "code",
   "execution_count": 5,
   "metadata": {
    "collapsed": false,
    "pycharm": {
     "is_executing": true
    }
   },
   "outputs": [],
   "source": [
    "reader = TxtinoutReader(cwd / 'data' / 'txtinouts' / 'TxtInOut_fluvia_2')"
   ]
  },
  {
   "cell_type": "code",
   "execution_count": 6,
   "metadata": {},
   "outputs": [],
   "source": [
    "#set up\n",
    "reader.set_beginning_and_end_year(2000, 2022)\n",
    "reader.enable_object_in_print_prt('channel_sd', True, False, False, False)\n",
    "reader.enable_object_in_print_prt('poll', True, False, False, False)\n",
    "reader.disable_csv_print()\n",
    "\n",
    "#delete pollutants that are not the current one\n",
    "file = reader.register_file('pollutants.def', has_units = False, index = 'name')\n",
    "df = file.df\n",
    "df = df[df['name'] == contaminant]\n",
    "file.df = df.copy()\n",
    "file.overwrite_file()\n",
    "\n",
    "file = reader.register_file('pollutants_om.exc', has_units = False)\n",
    "df = file.df\n",
    "df = df[df['pollutants_pth'] == contaminant]\n",
    "file.df = df.copy()\n",
    "file.overwrite_file()"
   ]
  },
  {
   "cell_type": "code",
   "execution_count": 7,
   "metadata": {},
   "outputs": [],
   "source": [
    "params  = [\n",
    "    {'pollutants.def': ('name', [('Diuron', 'solub', 450)])},\n",
    "    {'pollutants.def': ('name', [('Diuron', 'solub', 600)])},\n",
    "    {'pollutants.def': ('name', [('Diuron', 'solub', 750)])},\n",
    "    {'pollutants.def': ('name', [('Diuron', 'solub', 1000)])},\n",
    "    {'pollutants.def': ('name', [('Diuron', 'solub', 1200)])},\n",
    "    ]\n",
    "    #"
   ]
  },
  {
   "cell_type": "code",
   "execution_count": 8,
   "metadata": {},
   "outputs": [
    {
     "name": "stderr",
     "output_type": "stream",
     "text": [
      "Task exception was never retrieved\n",
      "future: <Task finished name='Task-26' coro=<_wrap_awaitable() done, defined at /home/zephol/anaconda3/envs/pyswat/lib/python3.10/site-packages/distributed/deploy/spec.py:124> exception=FileNotFoundError(2, 'No such file or directory')>\n",
      "Traceback (most recent call last):\n",
      "  File \"/home/zephol/anaconda3/envs/pyswat/lib/python3.10/site-packages/distributed/deploy/spec.py\", line 125, in _wrap_awaitable\n",
      "    return await aw\n",
      "  File \"/home/zephol/anaconda3/envs/pyswat/lib/python3.10/site-packages/distributed/deploy/spec.py\", line 74, in _\n",
      "    await self.start()\n",
      "  File \"/home/zephol/anaconda3/envs/pyswat/lib/python3.10/site-packages/dask_jobqueue/core.py\", line 411, in start\n",
      "    out = await self._submit_job(fn)\n",
      "  File \"/home/zephol/anaconda3/envs/pyswat/lib/python3.10/site-packages/dask_jobqueue/core.py\", line 394, in _submit_job\n",
      "    return self._call(shlex.split(self.submit_command) + [script_filename])\n",
      "  File \"/home/zephol/anaconda3/envs/pyswat/lib/python3.10/site-packages/dask_jobqueue/core.py\", line 481, in _call\n",
      "    proc = subprocess.Popen(\n",
      "  File \"/home/zephol/anaconda3/envs/pyswat/lib/python3.10/subprocess.py\", line 971, in __init__\n",
      "    self._execute_child(args, executable, preexec_fn, close_fds,\n",
      "  File \"/home/zephol/anaconda3/envs/pyswat/lib/python3.10/subprocess.py\", line 1863, in _execute_child\n",
      "    raise child_exception_type(errno_num, err_msg, err_filename)\n",
      "FileNotFoundError: [Errno 2] No such file or directory: 'sbatch'\n",
      "2023-10-04 13:11:53,745 - tornado.application - ERROR - Exception in callback functools.partial(<bound method IOLoop._discard_future_result of <tornado.platform.asyncio.AsyncIOLoop object at 0x7f4fec0babc0>>, <Task finished name='Task-25' coro=<SpecCluster._correct_state_internal() done, defined at /home/zephol/anaconda3/envs/pyswat/lib/python3.10/site-packages/distributed/deploy/spec.py:346> exception=FileNotFoundError(2, 'No such file or directory')>)\n",
      "Traceback (most recent call last):\n",
      "  File \"/home/zephol/anaconda3/envs/pyswat/lib/python3.10/site-packages/tornado/ioloop.py\", line 738, in _run_callback\n",
      "    ret = callback()\n",
      "  File \"/home/zephol/anaconda3/envs/pyswat/lib/python3.10/site-packages/tornado/ioloop.py\", line 762, in _discard_future_result\n",
      "    future.result()\n",
      "  File \"/home/zephol/anaconda3/envs/pyswat/lib/python3.10/site-packages/distributed/deploy/spec.py\", line 387, in _correct_state_internal\n",
      "    await w  # for tornado gen.coroutine support\n",
      "  File \"/home/zephol/anaconda3/envs/pyswat/lib/python3.10/site-packages/distributed/deploy/spec.py\", line 74, in _\n",
      "    await self.start()\n",
      "  File \"/home/zephol/anaconda3/envs/pyswat/lib/python3.10/site-packages/dask_jobqueue/core.py\", line 411, in start\n",
      "    out = await self._submit_job(fn)\n",
      "  File \"/home/zephol/anaconda3/envs/pyswat/lib/python3.10/site-packages/dask_jobqueue/core.py\", line 394, in _submit_job\n",
      "    return self._call(shlex.split(self.submit_command) + [script_filename])\n",
      "  File \"/home/zephol/anaconda3/envs/pyswat/lib/python3.10/site-packages/dask_jobqueue/core.py\", line 481, in _call\n",
      "    proc = subprocess.Popen(\n",
      "  File \"/home/zephol/anaconda3/envs/pyswat/lib/python3.10/subprocess.py\", line 971, in __init__\n",
      "    self._execute_child(args, executable, preexec_fn, close_fds,\n",
      "  File \"/home/zephol/anaconda3/envs/pyswat/lib/python3.10/subprocess.py\", line 1863, in _execute_child\n",
      "    raise child_exception_type(errno_num, err_msg, err_filename)\n",
      "FileNotFoundError: [Errno 2] No such file or directory: 'sbatch'\n",
      "Task exception was never retrieved\n",
      "future: <Task finished name='Task-30' coro=<_wrap_awaitable() done, defined at /home/zephol/anaconda3/envs/pyswat/lib/python3.10/site-packages/distributed/deploy/spec.py:124> exception=FileNotFoundError(2, 'No such file or directory')>\n",
      "Traceback (most recent call last):\n",
      "  File \"/home/zephol/anaconda3/envs/pyswat/lib/python3.10/site-packages/distributed/deploy/spec.py\", line 125, in _wrap_awaitable\n",
      "    return await aw\n",
      "  File \"/home/zephol/anaconda3/envs/pyswat/lib/python3.10/site-packages/distributed/deploy/spec.py\", line 74, in _\n",
      "    await self.start()\n",
      "  File \"/home/zephol/anaconda3/envs/pyswat/lib/python3.10/site-packages/dask_jobqueue/core.py\", line 411, in start\n",
      "    out = await self._submit_job(fn)\n",
      "  File \"/home/zephol/anaconda3/envs/pyswat/lib/python3.10/site-packages/dask_jobqueue/core.py\", line 394, in _submit_job\n",
      "    return self._call(shlex.split(self.submit_command) + [script_filename])\n",
      "  File \"/home/zephol/anaconda3/envs/pyswat/lib/python3.10/site-packages/dask_jobqueue/core.py\", line 481, in _call\n",
      "    proc = subprocess.Popen(\n",
      "  File \"/home/zephol/anaconda3/envs/pyswat/lib/python3.10/subprocess.py\", line 971, in __init__\n",
      "    self._execute_child(args, executable, preexec_fn, close_fds,\n",
      "  File \"/home/zephol/anaconda3/envs/pyswat/lib/python3.10/subprocess.py\", line 1863, in _execute_child\n",
      "    raise child_exception_type(errno_num, err_msg, err_filename)\n",
      "FileNotFoundError: [Errno 2] No such file or directory: 'sbatch'\n"
     ]
    }
   ],
   "source": [
    "#check if slurm is running\n",
    "try:\n",
    "    cluster = SLURMCluster(\n",
    "        cores=7,\n",
    "        memory='24GB'\n",
    "    )\n",
    "    cluster.scale(1)\n",
    "    client = Client(cluster)\n",
    "\n",
    "except FileNotFoundError as e:    \n",
    "    print('aaaaaa')\n",
    "    client = Client()\n",
    "    "
   ]
  },
  {
   "cell_type": "code",
   "execution_count": 9,
   "metadata": {},
   "outputs": [],
   "source": [
    "from dask.distributed import Client"
   ]
  },
  {
   "cell_type": "code",
   "execution_count": 10,
   "metadata": {},
   "outputs": [
    {
     "name": "stderr",
     "output_type": "stream",
     "text": [
      "  0%|          | 0/5 [00:00<?, ?it/s]"
     ]
    }
   ],
   "source": [
    "dir_parallel = cwd / 'data' / 'txtinouts' / 'tmp_parallel'\n",
    "results = reader.run_parallel_swat(params, [], n_workers=5, dir = dir_parallel)"
   ]
  },
  {
   "cell_type": "code",
   "execution_count": null,
   "metadata": {},
   "outputs": [
    {
     "data": {
      "text/plain": [
       "[PosixPath('/mnt/c/Users/jsalo/Desktop/ICRA/pyswat/data/txtinouts/tmp_parallel/tmp040t92ux'),\n",
       " PosixPath('/mnt/c/Users/jsalo/Desktop/ICRA/pyswat/data/txtinouts/tmp_parallel/tmp7yf4iyzg'),\n",
       " PosixPath('/mnt/c/Users/jsalo/Desktop/ICRA/pyswat/data/txtinouts/tmp_parallel/tmp7u0z7mip')]"
      ]
     },
     "execution_count": 9,
     "metadata": {},
     "output_type": "execute_result"
    }
   ],
   "source": [
    "results"
   ]
  },
  {
   "cell_type": "code",
   "execution_count": null,
   "metadata": {},
   "outputs": [],
   "source": []
  }
 ],
 "metadata": {
  "kernelspec": {
   "display_name": "hackathon",
   "language": "python",
   "name": "python3"
  },
  "language_info": {
   "codemirror_mode": {
    "name": "ipython",
    "version": 3
   },
   "file_extension": ".py",
   "mimetype": "text/x-python",
   "name": "python",
   "nbconvert_exporter": "python",
   "pygments_lexer": "ipython3",
   "version": "3.8.17"
  },
  "orig_nbformat": 4,
  "vscode": {
   "interpreter": {
    "hash": "69060bfe147e60603269367298bfd775c6b167aba108b521beaeacd30c3feb0b"
   }
  }
 },
 "nbformat": 4,
 "nbformat_minor": 2
}
